{
 "cells": [
  {
   "cell_type": "markdown",
   "id": "dcdad652",
   "metadata": {},
   "source": [
    "# 🚢 Titanicデータセット分析\n",
    "\n",
    "このノートブックでは、Titanicの乗客データを分析して、生存予測のためのデータ探索を行います。"
   ]
  },
  {
   "cell_type": "code",
   "execution_count": null,
   "id": "4085bacc",
   "metadata": {},
   "outputs": [],
   "source": [
    "import pandas as pd\n",
    "import numpy as np\n",
    "import matplotlib.pyplot as plt\n",
    "import seaborn as sns\n",
    "import warnings\n",
    "warnings.filterwarnings('ignore')\n",
    "\n",
    "# 日本語フォントの設定\n",
    "plt.rcParams['font.family'] = 'DejaVu Sans'\n",
    "plt.style.use('seaborn-v0_8')\n",
    "\n",
    "print(\"✅ ライブラリのインポート完了\")"
   ]
  },
  {
   "cell_type": "markdown",
   "id": "34257404",
   "metadata": {},
   "source": [
    "## 2. データの読み込み"
   ]
  },
  {
   "cell_type": "code",
   "execution_count": null,
   "id": "64fac77a",
   "metadata": {},
   "outputs": [],
   "source": [
    "# データの読み込み\n",
    "train_df = pd.read_csv('Titanic - Machine Learning from Disaster/titanic/train.csv')\n",
    "test_df = pd.read_csv('Titanic - Machine Learning from Disaster/titanic/test.csv')\n",
    "gender_submission = pd.read_csv('Titanic - Machine Learning from Disaster/titanic/gender_submission.csv')\n",
    "\n",
    "print(\"📊 データ読み込み完了\")\n",
    "print(f\"訓練データ: {train_df.shape}\")\n",
    "print(f\"テストデータ: {test_df.shape}\")\n",
    "print(f\"サンプル提出: {gender_submission.shape}\")"
   ]
  },
  {
   "cell_type": "markdown",
   "id": "1424d324",
   "metadata": {},
   "source": [
    "## 3. 訓練データの基本情報"
   ]
  },
  {
   "cell_type": "code",
   "execution_count": null,
   "id": "6811d1ee",
   "metadata": {},
   "outputs": [],
   "source": [
    "print(\"🔍 訓練データの基本情報\")\n",
    "print(\"=\"*50)\n",
    "train_df.info()"
   ]
  },
  {
   "cell_type": "code",
   "execution_count": null,
   "id": "877c97f7",
   "metadata": {},
   "outputs": [],
   "source": [
    "print(\"📋 訓練データの最初の5行\")\n",
    "print(\"=\"*50)\n",
    "train_df.head()"
   ]
  },
  {
   "cell_type": "code",
   "execution_count": null,
   "id": "cc550585",
   "metadata": {},
   "outputs": [],
   "source": [
    "print(\"📊 数値データの統計情報\")\n",
    "print(\"=\"*50)\n",
    "train_df.describe()"
   ]
  },
  {
   "cell_type": "markdown",
   "id": "4229757d",
   "metadata": {},
   "source": [
    "## 4. 欠損値の確認"
   ]
  },
  {
   "cell_type": "code",
   "execution_count": null,
   "id": "61d67b25",
   "metadata": {},
   "outputs": [],
   "source": [
    "# 欠損値の確認\n",
    "missing_train = train_df.isnull().sum()\n",
    "missing_test = test_df.isnull().sum()\n",
    "\n",
    "print(\"⚠️ 訓練データの欠損値\")\n",
    "print(\"=\"*30)\n",
    "for col, count in missing_train.items():\n",
    "    if count > 0:\n",
    "        percentage = (count / len(train_df)) * 100\n",
    "        print(f\"{col}: {count}件 ({percentage:.1f}%)\")\n",
    "\n",
    "print(\"\\n⚠️ テストデータの欠損値\")\n",
    "print(\"=\"*30)\n",
    "for col, count in missing_test.items():\n",
    "    if count > 0:\n",
    "        percentage = (count / len(test_df)) * 100\n",
    "        print(f\"{col}: {count}件 ({percentage:.1f}%)\")"
   ]
  },
  {
   "cell_type": "markdown",
   "id": "59ff7e74",
   "metadata": {},
   "source": [
    "## 5. 生存率の分析"
   ]
  },
  {
   "cell_type": "code",
   "execution_count": null,
   "id": "f991bd3a",
   "metadata": {},
   "outputs": [],
   "source": [
    "# 全体の生存率\n",
    "survival_rate = train_df['Survived'].mean()\n",
    "print(f\"📈 全体の生存率: {survival_rate:.3f} ({survival_rate*100:.1f}%)\")\n",
    "\n",
    "# 性別別の生存率\n",
    "gender_survival = train_df.groupby('Sex')['Survived'].agg(['count', 'sum', 'mean'])\n",
    "gender_survival.columns = ['総数', '生存者数', '生存率']\n",
    "print(\"\\n👥 性別別の生存率\")\n",
    "print(\"=\"*30)\n",
    "print(gender_survival)"
   ]
  }
 ],
 "metadata": {},
 "nbformat": 4,
 "nbformat_minor": 5
}
